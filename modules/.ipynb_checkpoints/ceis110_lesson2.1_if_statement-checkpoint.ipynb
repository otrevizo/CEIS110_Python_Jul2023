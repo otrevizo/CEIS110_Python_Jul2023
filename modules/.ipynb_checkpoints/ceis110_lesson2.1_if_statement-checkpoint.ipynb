{
 "cells": [
  {
   "cell_type": "markdown",
   "id": "c232b93d",
   "metadata": {},
   "source": [
    "# CEIS110 Module 1.2 - Python If Statement\n",
    "\n",
    "Author: Prof. Oscar Trevizo\n",
    "\n",
    "Date: July 10, 2023"
   ]
  },
  {
   "cell_type": "markdown",
   "id": "e92d9d63",
   "metadata": {},
   "source": [
    "# If statement\n",
    "\n",
    "Create a decision structure. It executes one or more statement only if boolean condition is true. \n",
    "\n",
    "<table>\n",
    "    <tr>\n",
    "        <th>Operator</th>\n",
    "        <th>Description</th>\n",
    "    </tr>\n",
    "    <tr>\n",
    "        <td> &gt; </td>\n",
    "        <td> greater than </td>\n",
    "    </tr>\n",
    "    <tr>\n",
    "        <td> &lt; </td>\n",
    "        <td> less than </td>\n",
    "    </tr>\n",
    "    <tr>\n",
    "        <td> &gt;= </td>\n",
    "        <td> greater than or equal to </td>\n",
    "    </tr>\n",
    "    <tr>\n",
    "        <td> &lt;= </td>\n",
    "        <td> less than or equal to </td>\n",
    "    </tr>\n",
    "    <tr>\n",
    "        <td> ==</td>\n",
    "        <td>equal to</td>\n",
    "    </tr>\n",
    "    <tr>\n",
    "        <td> != </td>\n",
    "        <td> Not equal to</td>\n",
    "    </tr>\n",
    "    \n",
    "    \n",
    "</table>"
   ]
  },
  {
   "cell_type": "code",
   "execution_count": 1,
   "id": "c5e5b032",
   "metadata": {},
   "outputs": [],
   "source": [
    "w = 1000\n",
    "t = 1200"
   ]
  },
  {
   "cell_type": "code",
   "execution_count": 2,
   "id": "fa5f2294",
   "metadata": {},
   "outputs": [],
   "source": [
    "# if statement\n",
    "if w > t:\n",
    "    print('open the gates')"
   ]
  },
  {
   "cell_type": "code",
   "execution_count": 3,
   "id": "ac2e6548",
   "metadata": {},
   "outputs": [
    {
     "name": "stdout",
     "output_type": "stream",
     "text": [
      "open the gates\n"
     ]
    }
   ],
   "source": [
    "w = 1400\n",
    "t = 1200\n",
    "\n",
    "if w > t:\n",
    "    print('open the gates')"
   ]
  },
  {
   "cell_type": "code",
   "execution_count": 4,
   "id": "0dd74bf8",
   "metadata": {},
   "outputs": [
    {
     "name": "stdout",
     "output_type": "stream",
     "text": [
      "WARNING!!!\n",
      "open the gates\n"
     ]
    }
   ],
   "source": [
    "if w > t:\n",
    "    print('WARNING!!!')\n",
    "    print('open the gates')"
   ]
  },
  {
   "cell_type": "code",
   "execution_count": 5,
   "id": "a74ea88b",
   "metadata": {},
   "outputs": [],
   "source": [
    "w = 1000\n",
    "t = 1200\n"
   ]
  },
  {
   "cell_type": "code",
   "execution_count": 6,
   "id": "f733bd85",
   "metadata": {},
   "outputs": [
    {
     "name": "stdout",
     "output_type": "stream",
     "text": [
      "open the gates\n"
     ]
    }
   ],
   "source": [
    "if w > t:\n",
    "    print('WARNING!!!')\n",
    "print('open the gates')"
   ]
  },
  {
   "cell_type": "code",
   "execution_count": 7,
   "id": "f02d47a5",
   "metadata": {},
   "outputs": [],
   "source": [
    "if w > t:\n",
    "    print('WARNING!!!')\n",
    "    print('open the gates')"
   ]
  },
  {
   "cell_type": "markdown",
   "id": "60e90cd4",
   "metadata": {},
   "source": [
    "# If-else statement\n",
    "\n",
    "Now you have choice 1 (true) and choice 2 (false)"
   ]
  },
  {
   "cell_type": "code",
   "execution_count": 8,
   "id": "2ec9cc86",
   "metadata": {},
   "outputs": [
    {
     "name": "stdout",
     "output_type": "stream",
     "text": [
      "All is good\n",
      "keep the gates closed\n"
     ]
    }
   ],
   "source": [
    "if w > t:\n",
    "    print('WARNING!!!')\n",
    "    print('open the gates')\n",
    "else:\n",
    "    print('All is good')\n",
    "    print('keep the gates closed')"
   ]
  },
  {
   "cell_type": "code",
   "execution_count": 9,
   "id": "c9a9a4ff",
   "metadata": {},
   "outputs": [],
   "source": [
    "w = 1400\n",
    "t = 1200"
   ]
  },
  {
   "cell_type": "code",
   "execution_count": 10,
   "id": "3628bee0",
   "metadata": {},
   "outputs": [
    {
     "name": "stdout",
     "output_type": "stream",
     "text": [
      "WARNING!!!\n",
      "open the gates\n"
     ]
    }
   ],
   "source": [
    "if w > t:\n",
    "    print('WARNING!!!')\n",
    "    print('open the gates')\n",
    "else:\n",
    "    print('All is good')\n",
    "    print('keep the gates closed')"
   ]
  },
  {
   "cell_type": "markdown",
   "id": "16f4d67d",
   "metadata": {},
   "source": [
    "# Reference\n",
    "\n",
    "https://docs.python.org/3/tutorial/index.html\n"
   ]
  },
  {
   "cell_type": "code",
   "execution_count": null,
   "id": "65a10546",
   "metadata": {},
   "outputs": [],
   "source": []
  }
 ],
 "metadata": {
  "kernelspec": {
   "display_name": "Python 3 (ipykernel)",
   "language": "python",
   "name": "python3"
  },
  "language_info": {
   "codemirror_mode": {
    "name": "ipython",
    "version": 3
   },
   "file_extension": ".py",
   "mimetype": "text/x-python",
   "name": "python",
   "nbconvert_exporter": "python",
   "pygments_lexer": "ipython3",
   "version": "3.9.13"
  },
  "varInspector": {
   "cols": {
    "lenName": 16,
    "lenType": 16,
    "lenVar": 40
   },
   "kernels_config": {
    "python": {
     "delete_cmd_postfix": "",
     "delete_cmd_prefix": "del ",
     "library": "var_list.py",
     "varRefreshCmd": "print(var_dic_list())"
    },
    "r": {
     "delete_cmd_postfix": ") ",
     "delete_cmd_prefix": "rm(",
     "library": "var_list.r",
     "varRefreshCmd": "cat(var_dic_list()) "
    }
   },
   "types_to_exclude": [
    "module",
    "function",
    "builtin_function_or_method",
    "instance",
    "_Feature"
   ],
   "window_display": false
  }
 },
 "nbformat": 4,
 "nbformat_minor": 5
}
