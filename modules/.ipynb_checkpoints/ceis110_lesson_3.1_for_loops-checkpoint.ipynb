{
 "cells": [
  {
   "cell_type": "markdown",
   "id": "6d1092e4",
   "metadata": {},
   "source": [
    "# CEIS110 Module 3.1 - Python for loops\n",
    "\n",
    "Author: Prof. Oscar Trevizo\n",
    "\n",
    "Date: July 18, 2023\n",
    "\n",
    "## Reference\n",
    "\n",
    "https://docs.python.org/3/tutorial/controlflow.html#for-statements"
   ]
  },
  {
   "cell_type": "code",
   "execution_count": 1,
   "id": "577ffb2e",
   "metadata": {},
   "outputs": [
    {
     "name": "stdout",
     "output_type": "stream",
     "text": [
      "The next value in the list is  2\n",
      "When I add 1 to my value I get  3\n",
      "The next value in the list is  7\n",
      "When I add 1 to my value I get  8\n",
      "The next value in the list is  5\n",
      "When I add 1 to my value I get  6\n",
      "The next value in the list is  9\n",
      "When I add 1 to my value I get  10\n"
     ]
    }
   ],
   "source": [
    "for i in [2, 7, 5, 9]:\n",
    "    print('The next value in the list is ', i)\n",
    "    new = i + 1\n",
    "    print('When I add 1 to my value I get ', new)\n",
    "    \n"
   ]
  },
  {
   "cell_type": "code",
   "execution_count": 2,
   "id": "904d2de3",
   "metadata": {},
   "outputs": [
    {
     "name": "stdout",
     "output_type": "stream",
     "text": [
      "The next value in the list is  3\n",
      "When I add 1 to my value I get  4\n",
      "The next value in the list is  4\n",
      "When I add 1 to my value I get  5\n",
      "The next value in the list is  1\n",
      "When I add 1 to my value I get  2\n",
      "The next value in the list is  7\n",
      "When I add 1 to my value I get  8\n"
     ]
    }
   ],
   "source": [
    "for i in [3, 4, 1, 7]:\n",
    "    print('The next value in the list is ', i)\n",
    "    new = i + 1\n",
    "    print('When I add 1 to my value I get ', new)\n"
   ]
  },
  {
   "cell_type": "code",
   "execution_count": 3,
   "id": "7c1d4e8f",
   "metadata": {},
   "outputs": [
    {
     "name": "stdout",
     "output_type": "stream",
     "text": [
      "My next fruit is  apple\n",
      "My next fruit is  orange\n",
      "My next fruit is  banana\n"
     ]
    }
   ],
   "source": [
    "for my_fruit in ['apple', 'orange', 'banana']:\n",
    "    print('My next fruit is ', my_fruit)"
   ]
  },
  {
   "cell_type": "code",
   "execution_count": 4,
   "id": "fbf1ca1b",
   "metadata": {},
   "outputs": [],
   "source": [
    "my_range = range(10)"
   ]
  },
  {
   "cell_type": "code",
   "execution_count": 5,
   "id": "a5062534",
   "metadata": {},
   "outputs": [
    {
     "data": {
      "text/plain": [
       "[0, 1, 2, 3, 4, 5, 6, 7, 8, 9]"
      ]
     },
     "execution_count": 5,
     "metadata": {},
     "output_type": "execute_result"
    }
   ],
   "source": [
    "list(my_range)"
   ]
  },
  {
   "cell_type": "code",
   "execution_count": 6,
   "id": "4bcca17c",
   "metadata": {},
   "outputs": [
    {
     "name": "stdout",
     "output_type": "stream",
     "text": [
      "My next number in my range is  0\n",
      "My next number to the power of 2 is  0\n",
      "My next number in my range is  1\n",
      "My next number to the power of 2 is  1\n",
      "My next number in my range is  2\n",
      "My next number to the power of 2 is  4\n",
      "My next number in my range is  3\n",
      "My next number to the power of 2 is  9\n",
      "My next number in my range is  4\n",
      "My next number to the power of 2 is  16\n",
      "My next number in my range is  5\n",
      "My next number to the power of 2 is  25\n",
      "My next number in my range is  6\n",
      "My next number to the power of 2 is  36\n",
      "My next number in my range is  7\n",
      "My next number to the power of 2 is  49\n",
      "My next number in my range is  8\n",
      "My next number to the power of 2 is  64\n",
      "My next number in my range is  9\n",
      "My next number to the power of 2 is  81\n"
     ]
    }
   ],
   "source": [
    "for my_next_number in my_range:\n",
    "    print('My next number in my range is ', my_next_number)\n",
    "    new = my_next_number ** 2\n",
    "    print('My next number to the power of 2 is ', new)"
   ]
  }
 ],
 "metadata": {
  "kernelspec": {
   "display_name": "Python 3 (ipykernel)",
   "language": "python",
   "name": "python3"
  },
  "language_info": {
   "codemirror_mode": {
    "name": "ipython",
    "version": 3
   },
   "file_extension": ".py",
   "mimetype": "text/x-python",
   "name": "python",
   "nbconvert_exporter": "python",
   "pygments_lexer": "ipython3",
   "version": "3.9.13"
  },
  "varInspector": {
   "cols": {
    "lenName": 16,
    "lenType": 16,
    "lenVar": 40
   },
   "kernels_config": {
    "python": {
     "delete_cmd_postfix": "",
     "delete_cmd_prefix": "del ",
     "library": "var_list.py",
     "varRefreshCmd": "print(var_dic_list())"
    },
    "r": {
     "delete_cmd_postfix": ") ",
     "delete_cmd_prefix": "rm(",
     "library": "var_list.r",
     "varRefreshCmd": "cat(var_dic_list()) "
    }
   },
   "types_to_exclude": [
    "module",
    "function",
    "builtin_function_or_method",
    "instance",
    "_Feature"
   ],
   "window_display": false
  }
 },
 "nbformat": 4,
 "nbformat_minor": 5
}
