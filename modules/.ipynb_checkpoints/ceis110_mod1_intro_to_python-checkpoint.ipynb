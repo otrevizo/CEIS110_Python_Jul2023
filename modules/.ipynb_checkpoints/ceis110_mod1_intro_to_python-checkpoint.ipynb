{
 "cells": [
  {
   "cell_type": "markdown",
   "id": "0498c405",
   "metadata": {},
   "source": [
    "# CEIS110 Module 1 - Intro to Python\n",
    "\n",
    "Author: Prof. Oscar Trevizo\n",
    "\n",
    "Date: July 5, 2023"
   ]
  },
  {
   "cell_type": "markdown",
   "id": "542a349f",
   "metadata": {},
   "source": [
    "## References:\n",
    "\n",
    "https://github.com/otrevizo/CEIS110_Python_Jul2023\n",
    "\n",
    "https://github.com/jakevdp/WhirlwindTourOfPython\n",
    "\n",
    "https://www.geeksforgeeks.org/python-keywords-and-identifiers/\n"
   ]
  },
  {
   "cell_type": "markdown",
   "id": "6c87c4ad",
   "metadata": {},
   "source": [
    "# Variables \n",
    "Variables are names representing value stored in the memory of the program.\n",
    "\n",
    "## Variable Naming rule\n",
    "I. you cannot use python's keywords for naming variable examples:\n",
    "\n",
    "1. and \n",
    "2. del \n",
    "3. from \n",
    "4. None \n",
    "5. True\n",
    "6. as \n",
    "7. elif\n",
    "8. def\n",
    "9. else   \n",
    "are some examples.\n",
    "\n",
    "II. No spaces between variable names. For example the variable \" fruit name\" is incorrect\n",
    "\n",
    "III. first character a-z, A-Z or underscore .Examples : a , _a, fruit, Fruit \n",
    "\n",
    "IV. After first character you can use a-z, A-Z , 0-9 or underscore .Examples : a20, a_20, _20 \n",
    "\n",
    "V. Case sensitive ,  fruit, and Fruits are considered distince.\n"
   ]
  },
  {
   "cell_type": "code",
   "execution_count": 1,
   "id": "f5f851f5",
   "metadata": {},
   "outputs": [
    {
     "name": "stdout",
     "output_type": "stream",
     "text": [
      "apple 10 0.75\n"
     ]
    }
   ],
   "source": [
    "# Declaring and storing values in variables\n",
    "\n",
    "# Declares an int\n",
    "fruit1_count = 10\n",
    "\n",
    "# Declares a float\n",
    "fruit1_price = 0.75\n",
    "\n",
    "# Declares a string, note you can also use \"apple\" to store a string. \n",
    "# Use \" \" if you have a string literal that contains an apostrophe or single quote\n",
    "fruit1_name ='apple'\n",
    "\n",
    "print(fruit1_name, fruit1_count, fruit1_price)"
   ]
  },
  {
   "cell_type": "markdown",
   "id": "2c98470c",
   "metadata": {},
   "source": [
    "# Python math operators\n",
    "\n",
    "<table>\n",
    "    <tr>\n",
    "        <th>Symbol</th>\n",
    "        <th>Operation</th>\n",
    "        <th>Description</th>\n",
    "    </tr>\n",
    "    <tr>\n",
    "        <td> + </td>\n",
    "        <td> Add </td>\n",
    "    </tr>\n",
    "    <tr>\n",
    "        <td> - </td>\n",
    "        <td> Subtract </td>\n",
    "    </tr>\n",
    "    <tr>\n",
    "        <td> * </td>\n",
    "        <td> Multiply </td>\n",
    "    </tr>\n",
    "    <tr>\n",
    "        <td> /</td>\n",
    "        <td> Divide</td>\n",
    "        <td> The result is a floating point number </td>\n",
    "    </tr>\n",
    "    <tr>\n",
    "        <td> //</td>\n",
    "        <td> Floor division</td>\n",
    "        <td> The result is integer </td>\n",
    "    </tr>\n",
    "    <tr>\n",
    "        <td> %</td>\n",
    "        <td> Remainder</td>\n",
    "        <td> Divides one number by another and gives the remainder </td>\n",
    "    </tr>\n",
    "    <tr>\n",
    "        <td> **</td>\n",
    "        <td> Exponent</td>\n",
    "        <td> raises the power</td>\n",
    "    </tr>\n",
    "    \n",
    "</table>"
   ]
  },
  {
   "cell_type": "code",
   "execution_count": 2,
   "id": "9bfadb40",
   "metadata": {},
   "outputs": [
    {
     "name": "stdout",
     "output_type": "stream",
     "text": [
      "The total number of fruit, apples and oranges is = 30\n",
      "I ate 5 apples, so my total now is = 5\n",
      "The value remaining of my apples (fruit1) after I ate some, is =  3.75\n"
     ]
    }
   ],
   "source": [
    "fruit2_name = 'Orange'\n",
    "fruit2_count = 20\n",
    "fruit2_price = 0.5\n",
    "\n",
    "# Addition\n",
    "f_total = fruit1_count + fruit2_count\n",
    "\n",
    "print('The total number of fruit, apples and oranges is =', f_total)\n",
    "\n",
    "# Subtraction - Eat five of your apples (fruit1)\n",
    "fruit1_count =  fruit1_count - 5\n",
    "\n",
    "print('I ate 5 apples, so my total now is =', fruit1_count)\n",
    "\n",
    "# Multiplication\n",
    "values_of_fruit1 = fruit1_count * fruit1_price\n",
    "\n",
    "print('The value remaining of my apples (fruit1) after I ate some, is = ', values_of_fruit1)"
   ]
  }
 ],
 "metadata": {
  "kernelspec": {
   "display_name": "Python 3 (ipykernel)",
   "language": "python",
   "name": "python3"
  },
  "language_info": {
   "codemirror_mode": {
    "name": "ipython",
    "version": 3
   },
   "file_extension": ".py",
   "mimetype": "text/x-python",
   "name": "python",
   "nbconvert_exporter": "python",
   "pygments_lexer": "ipython3",
   "version": "3.9.13"
  },
  "varInspector": {
   "cols": {
    "lenName": 16,
    "lenType": 16,
    "lenVar": 40
   },
   "kernels_config": {
    "python": {
     "delete_cmd_postfix": "",
     "delete_cmd_prefix": "del ",
     "library": "var_list.py",
     "varRefreshCmd": "print(var_dic_list())"
    },
    "r": {
     "delete_cmd_postfix": ") ",
     "delete_cmd_prefix": "rm(",
     "library": "var_list.r",
     "varRefreshCmd": "cat(var_dic_list()) "
    }
   },
   "types_to_exclude": [
    "module",
    "function",
    "builtin_function_or_method",
    "instance",
    "_Feature"
   ],
   "window_display": false
  }
 },
 "nbformat": 4,
 "nbformat_minor": 5
}
