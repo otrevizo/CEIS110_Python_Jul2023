{
 "cells": [
  {
   "cell_type": "markdown",
   "id": "6d1092e4",
   "metadata": {},
   "source": [
    "# CEIS110 Module 3.1 - Python FOR loops\n",
    "\n",
    "Author: Prof. Oscar Trevizo\n",
    "\n",
    "Date: July 18, 2023\n",
    "\n",
    "## Reference\n",
    "\n",
    "https://docs.python.org/3/tutorial/controlflow.html#for-statements"
   ]
  },
  {
   "cell_type": "code",
   "execution_count": 2,
   "id": "c0635bb1-073c-410e-84ce-5862f9af68f3",
   "metadata": {},
   "outputs": [
    {
     "name": "stdout",
     "output_type": "stream",
     "text": [
      "Next wind speed will be  9 MPH\n",
      "It will be nice\n"
     ]
    }
   ],
   "source": [
    "s = 9\n",
    "print('Next wind speed will be ', s, 'MPH')\n",
    "if s > 10:\n",
    "    print('It will be windy this hour')\n",
    "else:\n",
    "    print('It will be nice')"
   ]
  },
  {
   "cell_type": "code",
   "execution_count": 3,
   "id": "e8688676-0a03-4c2a-b41d-0275063e05d7",
   "metadata": {},
   "outputs": [
    {
     "name": "stdout",
     "output_type": "stream",
     "text": [
      "Next wind speed will be  11 MPH\n",
      "It will be windy this hour\n"
     ]
    }
   ],
   "source": [
    "s = 11\n",
    "print('Next wind speed will be ', s, 'MPH')\n",
    "if s > 10:\n",
    "    print('It will be windy this hour')\n",
    "else:\n",
    "    print('It will be nice')"
   ]
  },
  {
   "cell_type": "code",
   "execution_count": 4,
   "id": "23a8defd-220c-4cc1-8507-3f27cc222705",
   "metadata": {},
   "outputs": [
    {
     "name": "stdout",
     "output_type": "stream",
     "text": [
      "Next wind speed will be  10 MPH\n",
      "It will be nice\n"
     ]
    }
   ],
   "source": [
    "s = 10\n",
    "print('Next wind speed will be ', s, 'MPH')\n",
    "if s > 10:\n",
    "    print('It will be windy this hour')\n",
    "else:\n",
    "    print('It will be nice')"
   ]
  },
  {
   "cell_type": "code",
   "execution_count": 5,
   "id": "31f3cd4d-3968-4005-b762-ac97ced23e2f",
   "metadata": {},
   "outputs": [
    {
     "name": "stdout",
     "output_type": "stream",
     "text": [
      "Next wind speed will be  12 MPH\n",
      "It will be windy this hour\n"
     ]
    }
   ],
   "source": [
    "s = 12\n",
    "print('Next wind speed will be ', s, 'MPH')\n",
    "if s > 10:\n",
    "    print('It will be windy this hour')\n",
    "else:\n",
    "    print('It will be nice')"
   ]
  },
  {
   "cell_type": "markdown",
   "id": "137987f3-f7b4-4520-9e0b-be0fbe617b88",
   "metadata": {},
   "source": [
    "## Now use a FOR loop"
   ]
  },
  {
   "cell_type": "code",
   "execution_count": 6,
   "id": "9cb169f7-de99-4ac5-ab2f-58b21c62edbf",
   "metadata": {},
   "outputs": [
    {
     "name": "stdout",
     "output_type": "stream",
     "text": [
      "Next wind speed will be  9 MPH\n",
      "It will be nice\n",
      "Next wind speed will be  11 MPH\n",
      "It will be windy this hour\n",
      "Next wind speed will be  10 MPH\n",
      "It will be nice\n",
      "Next wind speed will be  12 MPH\n",
      "It will be windy this hour\n"
     ]
    }
   ],
   "source": [
    "for s in [9, 11, 10, 12]:\n",
    "    print('Next wind speed will be ', s, 'MPH')\n",
    "    if s > 10:\n",
    "        print('It will be windy this hour')\n",
    "    else:\n",
    "        print('It will be nice')"
   ]
  },
  {
   "cell_type": "code",
   "execution_count": 7,
   "id": "bcfd8487-bb60-4527-ba90-a65a6f88207c",
   "metadata": {},
   "outputs": [],
   "source": [
    "f = [9, 11, 10, 12]"
   ]
  },
  {
   "cell_type": "code",
   "execution_count": 8,
   "id": "56b9997a-f00a-4040-bd0d-10b27cfa640f",
   "metadata": {},
   "outputs": [
    {
     "name": "stdout",
     "output_type": "stream",
     "text": [
      "Next wind speed will be  9 MPH\n",
      "It will be nice\n",
      "Next wind speed will be  11 MPH\n",
      "It will be windy this hour\n",
      "Next wind speed will be  10 MPH\n",
      "It will be nice\n",
      "Next wind speed will be  12 MPH\n",
      "It will be windy this hour\n"
     ]
    }
   ],
   "source": [
    "# f is an iterator. So I can iterate in a loop.\n",
    "for s in f:\n",
    "    print('Next wind speed will be ', s, 'MPH')\n",
    "    if s > 10:\n",
    "        print('It will be windy this hour')\n",
    "    else:\n",
    "        print('It will be nice')"
   ]
  },
  {
   "cell_type": "code",
   "execution_count": null,
   "id": "0aa94349-fdd1-46fd-ba27-f2518a24b352",
   "metadata": {},
   "outputs": [],
   "source": []
  }
 ],
 "metadata": {
  "kernelspec": {
   "display_name": "Python 3 (ipykernel)",
   "language": "python",
   "name": "python3"
  },
  "language_info": {
   "codemirror_mode": {
    "name": "ipython",
    "version": 3
   },
   "file_extension": ".py",
   "mimetype": "text/x-python",
   "name": "python",
   "nbconvert_exporter": "python",
   "pygments_lexer": "ipython3",
   "version": "3.9.13"
  },
  "varInspector": {
   "cols": {
    "lenName": 16,
    "lenType": 16,
    "lenVar": 40
   },
   "kernels_config": {
    "python": {
     "delete_cmd_postfix": "",
     "delete_cmd_prefix": "del ",
     "library": "var_list.py",
     "varRefreshCmd": "print(var_dic_list())"
    },
    "r": {
     "delete_cmd_postfix": ") ",
     "delete_cmd_prefix": "rm(",
     "library": "var_list.r",
     "varRefreshCmd": "cat(var_dic_list()) "
    }
   },
   "types_to_exclude": [
    "module",
    "function",
    "builtin_function_or_method",
    "instance",
    "_Feature"
   ],
   "window_display": false
  }
 },
 "nbformat": 4,
 "nbformat_minor": 5
}
